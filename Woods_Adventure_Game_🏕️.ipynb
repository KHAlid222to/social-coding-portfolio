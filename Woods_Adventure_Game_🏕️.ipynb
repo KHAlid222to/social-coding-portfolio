{
  "nbformat": 4,
  "nbformat_minor": 0,
  "metadata": {
    "colab": {
      "provenance": [],
      "authorship_tag": "ABX9TyNcaG8LSS/BAYxZMmLUA16R",
      "include_colab_link": true
    },
    "kernelspec": {
      "name": "python3",
      "display_name": "Python 3"
    },
    "language_info": {
      "name": "python"
    }
  },
  "cells": [
    {
      "cell_type": "markdown",
      "metadata": {
        "id": "view-in-github",
        "colab_type": "text"
      },
      "source": [
        "<a href=\"https://colab.research.google.com/github/KHAlid222to/social-coding-portfolio/blob/main/Woods_Adventure_Game_%F0%9F%8F%95%EF%B8%8F.ipynb\" target=\"_parent\"><img src=\"https://colab.research.google.com/assets/colab-badge.svg\" alt=\"Open In Colab\"/></a>"
      ]
    },
    {
      "cell_type": "code",
      "execution_count": null,
      "metadata": {
        "colab": {
          "base_uri": "https://localhost:8080/"
        },
        "id": "z6KNA2a-qVbk",
        "outputId": "bbed415c-ffc6-4f9a-8300-714be3de53bc"
      },
      "outputs": [
        {
          "output_type": "stream",
          "name": "stdout",
          "text": [
            "Welcome to the Adventure Game!\n",
            "You find yourself in the woods. There are two paths ahead.\n",
            "Do you want to go 'left' or 'right'? left\n",
            "you walk down the left path and encounter a little kid. he sticks the middle finger at you and punches you\n",
            "what will you do next?\n",
            "'PUNCH HIM' or 'walk away'walk away\n",
            "you walk away and after a couple minutes he comes up to you and apologizes to you and you guys are bestfriends and grow up to become villiage leaders\n"
          ]
        }
      ],
      "source": [
        "print(\"Welcome to the Adventure Game!\")\n",
        "print(\"You find yourself in the woods. There are two paths ahead.\")\n",
        "choice1 = input(\"Do you want to go 'left' or 'right'? \").strip().lower()\n",
        "\n",
        "if choice1 == 'left':\n",
        "  print(\"you walk down the left path and encounter a little kid. he sticks the middle finger at you and punches you\" )\n",
        "  print(\"what will you do next?\")\n",
        "  choice1 = input(\"'PUNCH HIM' or 'walk away'\")\n",
        "\n",
        "if choice1 == 'PUNCH HIM':\n",
        "   print(\"he runs away and comes back with other people from his villiage and they banish you from the woods.\")\n",
        "   print(\"was it really worth it?\")\n",
        "\n",
        "if choice1 == 'walk away':\n",
        " print(\"you walk away and after a couple minutes he comes up to you and apologizes to you and you guys are bestfriends and grow up to become villiage leaders\")\n"
      ]
    },
    {
      "cell_type": "code",
      "source": [],
      "metadata": {
        "id": "xGoiwdrwqcjT"
      },
      "execution_count": null,
      "outputs": []
    }
  ]
}