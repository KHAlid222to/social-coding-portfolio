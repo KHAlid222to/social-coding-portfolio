{
  "cells": [
    {
      "cell_type": "markdown",
      "metadata": {
        "id": "view-in-github",
        "colab_type": "text"
      },
      "source": [
        "<a href=\"https://colab.research.google.com/github/KHAlid222to/social-coding-portfolio/blob/main/Copy_of_activity_1.ipynb\" target=\"_parent\"><img src=\"https://colab.research.google.com/assets/colab-badge.svg\" alt=\"Open In Colab\"/></a>"
      ]
    },
    {
      "cell_type": "markdown",
      "id": "e06e8c55-6300-414a-b248-e610342edc6e",
      "metadata": {
        "id": "e06e8c55-6300-414a-b248-e610342edc6e"
      },
      "source": [
        "# Activity 1"
      ]
    },
    {
      "cell_type": "markdown",
      "id": "8f0211dc-fa5f-4237-93a7-75a3cf040895",
      "metadata": {
        "id": "8f0211dc-fa5f-4237-93a7-75a3cf040895"
      },
      "source": [
        "For this activity, we will be familiarizing ourselves with creating Python variables and data types.\n",
        "\n",
        "Please make sure you open this file in Jupyter Notebook or Google Colab -- you will have to either open Jupyter Notebook first or upload the file to Google Colab before being able to edit the file. In turn, make sure that you **print your output** for every response in the activity.\n",
        "\n",
        "-----\n",
        "## Submission Instructions\n",
        "1. Upload the completed activity to the \"Activities\" and \"Reflections\" folders of your GitHub portfolio;\n",
        "2. Ensure your submission consists of two files: (a) one reflection in markdown uploaded to \"Reflections\" (e.g. `a1_reflection.md`); and (b) one Jupyter notebook with completed responses for each step of the activity (e.g. `a1_building_blocks.ipynb`)."
      ]
    },
    {
      "cell_type": "markdown",
      "id": "d00e1320-3c81-497c-9ab8-c09fe0a21e26",
      "metadata": {
        "id": "d00e1320-3c81-497c-9ab8-c09fe0a21e26"
      },
      "source": [
        "## Please respond with your code in the cells."
      ]
    },
    {
      "cell_type": "markdown",
      "id": "eda0bdc8-c7d3-4c61-abaf-1fbae7a35034",
      "metadata": {
        "id": "eda0bdc8-c7d3-4c61-abaf-1fbae7a35034"
      },
      "source": [
        "1. Create a variable for your first name called ```first```."
      ]
    },
    {
      "cell_type": "code",
      "execution_count": 2,
      "id": "5150dcfe-7018-4c89-bb50-4c432379924d",
      "metadata": {
        "id": "5150dcfe-7018-4c89-bb50-4c432379924d"
      },
      "outputs": [],
      "source": [
        "  first = \"khalid\""
      ]
    },
    {
      "cell_type": "markdown",
      "id": "c61ee004-5faf-4710-8ae6-4a752b2ad673",
      "metadata": {
        "id": "c61ee004-5faf-4710-8ae6-4a752b2ad673"
      },
      "source": [
        "2. Create a variable for your last name called ```last```."
      ]
    },
    {
      "cell_type": "code",
      "execution_count": 3,
      "id": "9143791d-5460-41c0-9e80-3bc59318b2ec",
      "metadata": {
        "id": "9143791d-5460-41c0-9e80-3bc59318b2ec"
      },
      "outputs": [],
      "source": [
        "  last = \"royster\""
      ]
    },
    {
      "cell_type": "markdown",
      "id": "1a81a966-5a53-471e-a479-78085f26ad85",
      "metadata": {
        "id": "1a81a966-5a53-471e-a479-78085f26ad85"
      },
      "source": [
        "3. Create a variable for your age called ```age```."
      ]
    },
    {
      "cell_type": "code",
      "execution_count": 4,
      "id": "d50476c7-f82c-4f8e-a20d-18f6e36de9b2",
      "metadata": {
        "id": "d50476c7-f82c-4f8e-a20d-18f6e36de9b2"
      },
      "outputs": [],
      "source": [
        "  Age = \"18\""
      ]
    },
    {
      "cell_type": "markdown",
      "id": "8b92dcfb-7784-41bc-b58d-0678d0a85258",
      "metadata": {
        "id": "8b92dcfb-7784-41bc-b58d-0678d0a85258"
      },
      "source": [
        "4. Using the variables you have created, create a new variable ```name``` by joining your first and last names together."
      ]
    },
    {
      "cell_type": "code",
      "execution_count": 8,
      "id": "d21cd5ed-26aa-4ab4-a6e7-02f992bd0119",
      "metadata": {
        "id": "d21cd5ed-26aa-4ab4-a6e7-02f992bd0119",
        "colab": {
          "base_uri": "https://localhost:8080/"
        },
        "outputId": "b0dae828-7f9f-40d7-c18d-4ec9229dab3b"
      },
      "outputs": [
        {
          "output_type": "stream",
          "name": "stdout",
          "text": [
            "name\n"
          ]
        }
      ],
      "source": [
        "  name = \"Khalid Royster\""
      ]
    },
    {
      "cell_type": "markdown",
      "id": "cf57471f-11a9-41d9-8342-a0b5ff28b8b0",
      "metadata": {
        "id": "cf57471f-11a9-41d9-8342-a0b5ff28b8b0"
      },
      "source": [
        "5. Use string methods to convert the variable ```activity1 = \"  THIS IS MY FIRST PYTHON ACTIVITY!! \"``` to  lowercase and remove any leading or trailing white space, then print the output as a new variable: ```activity1_lower```."
      ]
    },
    {
      "cell_type": "code",
      "execution_count": 38,
      "id": "19cf1155-0517-465f-aa6e-2b3bf0406d64",
      "metadata": {
        "id": "19cf1155-0517-465f-aa6e-2b3bf0406d64",
        "colab": {
          "base_uri": "https://localhost:8080/"
        },
        "outputId": "898d50d6-f641-4f28-f827-4e43e28d9706"
      },
      "outputs": [
        {
          "output_type": "stream",
          "name": "stdout",
          "text": [
            " woohoo! this is my first python activity!! \n"
          ]
        }
      ],
      "source": [
        "\n",
        "  activity1 = \" WOOHOO! THIS IS MY FIRST PYTHON ACTIVITY!! \"\n",
        "  text = activity1\n",
        "  print(text.lower())\n",
        ""
      ]
    },
    {
      "cell_type": "markdown",
      "id": "927c8101-95a3-4d1d-b6d9-d390b94b2ad9",
      "metadata": {
        "id": "927c8101-95a3-4d1d-b6d9-d390b94b2ad9"
      },
      "source": [
        "6. What data type is the variable ```age```? Declare the value and print the data type."
      ]
    },
    {
      "cell_type": "code",
      "execution_count": 46,
      "id": "02a0e871-653a-433d-bf31-8430c6c55a49",
      "metadata": {
        "id": "02a0e871-653a-433d-bf31-8430c6c55a49",
        "colab": {
          "base_uri": "https://localhost:8080/"
        },
        "outputId": "1aa9a0c3-6e5f-4c58-c0d6-4d78b88bffeb"
      },
      "outputs": [
        {
          "output_type": "stream",
          "name": "stdout",
          "text": [
            "18\n"
          ]
        }
      ],
      "source": [
        "age = 18\n",
        "print(age)"
      ]
    },
    {
      "cell_type": "markdown",
      "id": "006b4e55-9d77-4007-86a5-e03408b737f1",
      "metadata": {
        "id": "006b4e55-9d77-4007-86a5-e03408b737f1"
      },
      "source": [
        "7. What happens when you add ```10``` to your ```name```? Please demonstrate it in the cell below and add an inline comment that provides a brief explanation of the result.  "
      ]
    },
    {
      "cell_type": "code",
      "execution_count": 48,
      "id": "547478df-4528-4697-a480-80b383d6aa29",
      "metadata": {
        "id": "547478df-4528-4697-a480-80b383d6aa29",
        "colab": {
          "base_uri": "https://localhost:8080/",
          "height": 139
        },
        "outputId": "397f5a92-d9c3-4668-9009-7fa6616cb65c"
      },
      "outputs": [
        {
          "output_type": "error",
          "ename": "TypeError",
          "evalue": "can only concatenate str (not \"int\") to str",
          "traceback": [
            "\u001b[0;31m---------------------------------------------------------------------------\u001b[0m",
            "\u001b[0;31mTypeError\u001b[0m                                 Traceback (most recent call last)",
            "\u001b[0;32m<ipython-input-48-9e69747c63c7>\u001b[0m in \u001b[0;36m<cell line: 1>\u001b[0;34m()\u001b[0m\n\u001b[0;32m----> 1\u001b[0;31m \u001b[0mname\u001b[0m \u001b[0;34m=\u001b[0m \u001b[0;34m\"Khalid\"\u001b[0m\u001b[0;34m+\u001b[0m\u001b[0;36m10\u001b[0m\u001b[0;34m\u001b[0m\u001b[0;34m\u001b[0m\u001b[0m\n\u001b[0m",
            "\u001b[0;31mTypeError\u001b[0m: can only concatenate str (not \"int\") to str"
          ]
        }
      ],
      "source": [
        "name = \"Khalid\"+10"
      ]
    },
    {
      "cell_type": "markdown",
      "source": [
        "8. Declare a variable that asks for user input, then print the variable storing their response as the output"
      ],
      "metadata": {
        "id": "VOnDoeLieoBW"
      },
      "id": "VOnDoeLieoBW"
    },
    {
      "cell_type": "code",
      "source": [
        "choice1 = input(\"do you have anything to drink right now?'yes'or'no'\")\n",
        "if choice1 =='no':\n",
        " print(\"ok just asking because im pretty thirsty well making this but hope your having fun :(\")\n",
        "if choice1 =='yes':\n",
        "  print(\"REALLY let me get a sip\")\n"
      ],
      "metadata": {
        "id": "FVPp8yrZfueN",
        "colab": {
          "base_uri": "https://localhost:8080/"
        },
        "outputId": "754c2cac-5166-44de-9f4b-04fa621dc081"
      },
      "id": "FVPp8yrZfueN",
      "execution_count": 58,
      "outputs": [
        {
          "output_type": "stream",
          "name": "stdout",
          "text": [
            "do you have anything to drink right now?'yes'or'no'yes\n",
            "REALLY let me get a sip\n"
          ]
        }
      ]
    },
    {
      "cell_type": "markdown",
      "id": "20bd577c-9c9c-4084-90c0-d1dc38f59da5",
      "metadata": {
        "id": "20bd577c-9c9c-4084-90c0-d1dc38f59da5"
      },
      "source": [
        "-------"
      ]
    },
    {
      "cell_type": "markdown",
      "id": "0f5f0cca-38e0-4ffd-8adf-e65469913076",
      "metadata": {
        "id": "0f5f0cca-38e0-4ffd-8adf-e65469913076"
      },
      "source": [
        "## Side quest challenge\n",
        "\n",
        "This side quest is an extra credit challenge. You can still get full credit for this activity even if you do not complete this challenge."
      ]
    },
    {
      "cell_type": "markdown",
      "id": "6837c438-eeba-498d-9cc5-08aadf1420dc",
      "metadata": {
        "id": "6837c438-eeba-498d-9cc5-08aadf1420dc"
      },
      "source": [
        "Use ***f-string formatting*** to display your ```name``` and ```age``` in a sentence.   \n",
        "\n",
        "Check out Kyle Bradbury and Nick Eubank's [introduction to f-strings](https://nickeubank.github.io/practicaldatascience_book/notebooks/other/fstrings.html)."
      ]
    },
    {
      "cell_type": "code",
      "execution_count": 59,
      "id": "5e88c0c0-288b-4f3b-82ff-8c8582855b1d",
      "metadata": {
        "id": "5e88c0c0-288b-4f3b-82ff-8c8582855b1d",
        "colab": {
          "base_uri": "https://localhost:8080/"
        },
        "outputId": "6aaacadd-9c5a-42a7-8f06-a6c7ccc34ea1"
      },
      "outputs": [
        {
          "output_type": "stream",
          "name": "stdout",
          "text": [
            "HELLO my name is khalidroyster & im 18years old\n"
          ]
        }
      ],
      "source": [
        "print(f\"HELLO my name is {first}{last} & im {age}years old\")"
      ]
    }
  ],
  "metadata": {
    "kernelspec": {
      "display_name": "Python 3 (ipykernel)",
      "language": "python",
      "name": "python3"
    },
    "language_info": {
      "codemirror_mode": {
        "name": "ipython",
        "version": 3
      },
      "file_extension": ".py",
      "mimetype": "text/x-python",
      "name": "python",
      "nbconvert_exporter": "python",
      "pygments_lexer": "ipython3",
      "version": "3.11.5"
    },
    "colab": {
      "provenance": [],
      "include_colab_link": true
    }
  },
  "nbformat": 4,
  "nbformat_minor": 5
}